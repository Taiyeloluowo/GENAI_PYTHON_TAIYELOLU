{
 "cells": [
  {
   "cell_type": "code",
   "execution_count": null,
   "id": "0a40e692",
   "metadata": {
    "vscode": {
     "languageId": "plaintext"
    }
   },
   "outputs": [],
   "source": [
    "print(\"hello world, i am learning python\")\n"
   ]
  },
  {
   "cell_type": "markdown",
   "id": "f2237300",
   "metadata": {},
   "source": [
    "print(\"hello world, i am learning python\")"
   ]
  }
 ],
 "metadata": {
  "language_info": {
   "name": "python"
  }
 },
 "nbformat": 4,
 "nbformat_minor": 5
}
